{
 "cells": [
  {
   "cell_type": "markdown",
   "metadata": {},
   "source": [
    "### In the operational loss calculation, it is important to use CPI (Consumer Price Index) adjusting historical losses. Below is an example showing how to download CPI data online directly from Federal Reserve Bank of St. Louis and then to calculate monthly and quarterly CPI adjustment factors with Python."
   ]
  },
  {
   "cell_type": "code",
   "execution_count": 2,
   "metadata": {
    "collapsed": false
   },
   "outputs": [],
   "source": [
    "import pandas as pd\n",
    "import numpy as np\n",
    "import datetime as dt\n",
    "import datetime as dt"
   ]
  },
  {
   "cell_type": "code",
   "execution_count": 3,
   "metadata": {
    "collapsed": false
   },
   "outputs": [],
   "source": [
    "import pandas_datareader.data as web"
   ]
  },
  {
   "cell_type": "code",
   "execution_count": 4,
   "metadata": {
    "collapsed": false
   },
   "outputs": [
    {
     "data": {
      "text/html": [
       "<div>\n",
       "<table border=\"1\" class=\"dataframe\">\n",
       "  <thead>\n",
       "    <tr style=\"text-align: right;\">\n",
       "      <th></th>\n",
       "      <th>CPIAUCNS</th>\n",
       "    </tr>\n",
       "    <tr>\n",
       "      <th>DATE</th>\n",
       "      <th></th>\n",
       "    </tr>\n",
       "  </thead>\n",
       "  <tbody>\n",
       "    <tr>\n",
       "      <th>2000-01-01</th>\n",
       "      <td>168.8</td>\n",
       "    </tr>\n",
       "    <tr>\n",
       "      <th>2000-02-01</th>\n",
       "      <td>169.8</td>\n",
       "    </tr>\n",
       "    <tr>\n",
       "      <th>2000-03-01</th>\n",
       "      <td>171.2</td>\n",
       "    </tr>\n",
       "    <tr>\n",
       "      <th>2000-04-01</th>\n",
       "      <td>171.3</td>\n",
       "    </tr>\n",
       "    <tr>\n",
       "      <th>2000-05-01</th>\n",
       "      <td>171.5</td>\n",
       "    </tr>\n",
       "  </tbody>\n",
       "</table>\n",
       "</div>"
      ],
      "text/plain": [
       "            CPIAUCNS\n",
       "DATE                \n",
       "2000-01-01     168.8\n",
       "2000-02-01     169.8\n",
       "2000-03-01     171.2\n",
       "2000-04-01     171.3\n",
       "2000-05-01     171.5"
      ]
     },
     "execution_count": 4,
     "metadata": {},
     "output_type": "execute_result"
    }
   ],
   "source": [
    "sdt = dt.datetime(2000, 1, 1)\n",
    "edt = dt.datetime(2015, 9, 1)\n",
    "cpi = web.DataReader(\"CPIAUCNS\", \"fred\", sdt, edt)\n",
    "cpi.head()"
   ]
  },
  {
   "cell_type": "code",
   "execution_count": 7,
   "metadata": {
    "collapsed": true
   },
   "outputs": [],
   "source": [
    "df1 = pd.DataFrame({'month': [dt.datetime.strftime(i, \"%Y-%m\") for i in cpi.index]})"
   ]
  },
  {
   "cell_type": "code",
   "execution_count": 8,
   "metadata": {
    "collapsed": true
   },
   "outputs": [],
   "source": [
    "df1['qtr'] = [str(x.year) + \"-Q\" + str(x.quarter) for x in cpi.index]"
   ]
  },
  {
   "cell_type": "code",
   "execution_count": 9,
   "metadata": {
    "collapsed": true
   },
   "outputs": [],
   "source": [
    "df1['m_cpi'] = cpi.values"
   ]
  },
  {
   "cell_type": "code",
   "execution_count": 10,
   "metadata": {
    "collapsed": true
   },
   "outputs": [],
   "source": [
    "df1.index = cpi.index"
   ]
  },
  {
   "cell_type": "code",
   "execution_count": 11,
   "metadata": {
    "collapsed": true
   },
   "outputs": [],
   "source": [
    "grp = df1.groupby('qtr', as_index = False)"
   ]
  },
  {
   "cell_type": "code",
   "execution_count": 12,
   "metadata": {
    "collapsed": true
   },
   "outputs": [],
   "source": [
    "df2 = grp['m_cpi'].agg({'q_cpi': np.mean})"
   ]
  },
  {
   "cell_type": "code",
   "execution_count": 13,
   "metadata": {
    "collapsed": true
   },
   "outputs": [],
   "source": [
    "df3 = pd.merge(df1, df2, how = 'inner', left_on = 'qtr', right_on = 'qtr')"
   ]
  },
  {
   "cell_type": "code",
   "execution_count": 14,
   "metadata": {
    "collapsed": true
   },
   "outputs": [],
   "source": [
    "maxm_cpi = np.array(df3.m_cpi)[-1]"
   ]
  },
  {
   "cell_type": "code",
   "execution_count": 15,
   "metadata": {
    "collapsed": true
   },
   "outputs": [],
   "source": [
    "maxq_cpi = np.array(df3.q_cpi)[-1]"
   ]
  },
  {
   "cell_type": "code",
   "execution_count": 16,
   "metadata": {
    "collapsed": true
   },
   "outputs": [],
   "source": [
    "df3['m_factor'] = maxm_cpi / df3.m_cpi"
   ]
  },
  {
   "cell_type": "code",
   "execution_count": 17,
   "metadata": {
    "collapsed": true
   },
   "outputs": [],
   "source": [
    "df3['q_factor'] = maxq_cpi / df3.q_cpi"
   ]
  },
  {
   "cell_type": "code",
   "execution_count": 18,
   "metadata": {
    "collapsed": true
   },
   "outputs": [],
   "source": [
    "df3.index = cpi.index"
   ]
  },
  {
   "cell_type": "code",
   "execution_count": 19,
   "metadata": {
    "collapsed": true
   },
   "outputs": [],
   "source": [
    "final = df3.sort_index(ascending = False)"
   ]
  },
  {
   "cell_type": "code",
   "execution_count": 20,
   "metadata": {
    "collapsed": false
   },
   "outputs": [
    {
     "data": {
      "text/html": [
       "<div>\n",
       "<table border=\"1\" class=\"dataframe\">\n",
       "  <thead>\n",
       "    <tr style=\"text-align: right;\">\n",
       "      <th></th>\n",
       "      <th>month</th>\n",
       "      <th>qtr</th>\n",
       "      <th>m_cpi</th>\n",
       "      <th>q_cpi</th>\n",
       "      <th>m_factor</th>\n",
       "      <th>q_factor</th>\n",
       "    </tr>\n",
       "    <tr>\n",
       "      <th>DATE</th>\n",
       "      <th></th>\n",
       "      <th></th>\n",
       "      <th></th>\n",
       "      <th></th>\n",
       "      <th></th>\n",
       "      <th></th>\n",
       "    </tr>\n",
       "  </thead>\n",
       "  <tbody>\n",
       "    <tr>\n",
       "      <th>2015-09-01</th>\n",
       "      <td>2015-09</td>\n",
       "      <td>2015-Q3</td>\n",
       "      <td>237.945</td>\n",
       "      <td>238.305000</td>\n",
       "      <td>1.000000</td>\n",
       "      <td>1.000000</td>\n",
       "    </tr>\n",
       "    <tr>\n",
       "      <th>2015-08-01</th>\n",
       "      <td>2015-08</td>\n",
       "      <td>2015-Q3</td>\n",
       "      <td>238.316</td>\n",
       "      <td>238.305000</td>\n",
       "      <td>0.998443</td>\n",
       "      <td>1.000000</td>\n",
       "    </tr>\n",
       "    <tr>\n",
       "      <th>2015-07-01</th>\n",
       "      <td>2015-07</td>\n",
       "      <td>2015-Q3</td>\n",
       "      <td>238.654</td>\n",
       "      <td>238.305000</td>\n",
       "      <td>0.997029</td>\n",
       "      <td>1.000000</td>\n",
       "    </tr>\n",
       "    <tr>\n",
       "      <th>2015-06-01</th>\n",
       "      <td>2015-06</td>\n",
       "      <td>2015-Q2</td>\n",
       "      <td>238.638</td>\n",
       "      <td>237.680667</td>\n",
       "      <td>0.997096</td>\n",
       "      <td>1.002627</td>\n",
       "    </tr>\n",
       "    <tr>\n",
       "      <th>2015-05-01</th>\n",
       "      <td>2015-05</td>\n",
       "      <td>2015-Q2</td>\n",
       "      <td>237.805</td>\n",
       "      <td>237.680667</td>\n",
       "      <td>1.000589</td>\n",
       "      <td>1.002627</td>\n",
       "    </tr>\n",
       "    <tr>\n",
       "      <th>2015-04-01</th>\n",
       "      <td>2015-04</td>\n",
       "      <td>2015-Q2</td>\n",
       "      <td>236.599</td>\n",
       "      <td>237.680667</td>\n",
       "      <td>1.005689</td>\n",
       "      <td>1.002627</td>\n",
       "    </tr>\n",
       "    <tr>\n",
       "      <th>2015-03-01</th>\n",
       "      <td>2015-03</td>\n",
       "      <td>2015-Q1</td>\n",
       "      <td>236.119</td>\n",
       "      <td>234.849333</td>\n",
       "      <td>1.007733</td>\n",
       "      <td>1.014714</td>\n",
       "    </tr>\n",
       "    <tr>\n",
       "      <th>2015-02-01</th>\n",
       "      <td>2015-02</td>\n",
       "      <td>2015-Q1</td>\n",
       "      <td>234.722</td>\n",
       "      <td>234.849333</td>\n",
       "      <td>1.013731</td>\n",
       "      <td>1.014714</td>\n",
       "    </tr>\n",
       "    <tr>\n",
       "      <th>2015-01-01</th>\n",
       "      <td>2015-01</td>\n",
       "      <td>2015-Q1</td>\n",
       "      <td>233.707</td>\n",
       "      <td>234.849333</td>\n",
       "      <td>1.018134</td>\n",
       "      <td>1.014714</td>\n",
       "    </tr>\n",
       "    <tr>\n",
       "      <th>2014-12-01</th>\n",
       "      <td>2014-12</td>\n",
       "      <td>2014-Q4</td>\n",
       "      <td>234.812</td>\n",
       "      <td>236.132000</td>\n",
       "      <td>1.013343</td>\n",
       "      <td>1.009202</td>\n",
       "    </tr>\n",
       "    <tr>\n",
       "      <th>2014-11-01</th>\n",
       "      <td>2014-11</td>\n",
       "      <td>2014-Q4</td>\n",
       "      <td>236.151</td>\n",
       "      <td>236.132000</td>\n",
       "      <td>1.007597</td>\n",
       "      <td>1.009202</td>\n",
       "    </tr>\n",
       "    <tr>\n",
       "      <th>2014-10-01</th>\n",
       "      <td>2014-10</td>\n",
       "      <td>2014-Q4</td>\n",
       "      <td>237.433</td>\n",
       "      <td>236.132000</td>\n",
       "      <td>1.002156</td>\n",
       "      <td>1.009202</td>\n",
       "    </tr>\n",
       "  </tbody>\n",
       "</table>\n",
       "</div>"
      ],
      "text/plain": [
       "              month      qtr    m_cpi       q_cpi  m_factor  q_factor\n",
       "DATE                                                                 \n",
       "2015-09-01  2015-09  2015-Q3  237.945  238.305000  1.000000  1.000000\n",
       "2015-08-01  2015-08  2015-Q3  238.316  238.305000  0.998443  1.000000\n",
       "2015-07-01  2015-07  2015-Q3  238.654  238.305000  0.997029  1.000000\n",
       "2015-06-01  2015-06  2015-Q2  238.638  237.680667  0.997096  1.002627\n",
       "2015-05-01  2015-05  2015-Q2  237.805  237.680667  1.000589  1.002627\n",
       "2015-04-01  2015-04  2015-Q2  236.599  237.680667  1.005689  1.002627\n",
       "2015-03-01  2015-03  2015-Q1  236.119  234.849333  1.007733  1.014714\n",
       "2015-02-01  2015-02  2015-Q1  234.722  234.849333  1.013731  1.014714\n",
       "2015-01-01  2015-01  2015-Q1  233.707  234.849333  1.018134  1.014714\n",
       "2014-12-01  2014-12  2014-Q4  234.812  236.132000  1.013343  1.009202\n",
       "2014-11-01  2014-11  2014-Q4  236.151  236.132000  1.007597  1.009202\n",
       "2014-10-01  2014-10  2014-Q4  237.433  236.132000  1.002156  1.009202"
      ]
     },
     "execution_count": 20,
     "metadata": {},
     "output_type": "execute_result"
    }
   ],
   "source": [
    "final.head(12)"
   ]
  },
  {
   "cell_type": "code",
   "execution_count": null,
   "metadata": {
    "collapsed": true
   },
   "outputs": [],
   "source": []
  }
 ],
 "metadata": {
  "kernelspec": {
   "display_name": "Python 3",
   "language": "python",
   "name": "python3"
  },
  "language_info": {
   "codemirror_mode": {
    "name": "ipython",
    "version": 3
   },
   "file_extension": ".py",
   "mimetype": "text/x-python",
   "name": "python",
   "nbconvert_exporter": "python",
   "pygments_lexer": "ipython3",
   "version": "3.6.0"
  }
 },
 "nbformat": 4,
 "nbformat_minor": 2
}
