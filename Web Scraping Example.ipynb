{
 "cells": [
  {
   "cell_type": "markdown",
   "metadata": {},
   "source": [
    "THIS CODE PROVIDES A DEMONSTRATION FOR HOW TO WEB SCRAPE DATA FROM A SAMPLE WEBSITE\n",
    "THE BELOW WEB LINK IS A TUTORIAL FOR HOW TO WEB SCRAPE\n",
    "https://medium.freecodecamp.org/how-to-scrape-websites-with-python-and-beautifulsoup-5946935d93fe"
   ]
  },
  {
   "cell_type": "code",
   "execution_count": 2,
   "metadata": {
    "collapsed": false
   },
   "outputs": [],
   "source": [
    "# import libraries\n",
    "import urllib.request\n",
    "from bs4 import BeautifulSoup"
   ]
  },
  {
   "cell_type": "code",
   "execution_count": 10,
   "metadata": {
    "collapsed": false
   },
   "outputs": [],
   "source": [
    "# Next, declare a variable for the url of the page.\n",
    "quote_page = \"http://www.bloomberg.com/quote/SPX:IND\""
   ]
  },
  {
   "cell_type": "code",
   "execution_count": 11,
   "metadata": {
    "collapsed": false
   },
   "outputs": [],
   "source": [
    "# Then, make use of the Python urllib.request to get the HTML page of the url declared.\n",
    "# Query the website and return the html to the variable ‘page’\n",
    "page = urllib.request.urlopen(quote_page)"
   ]
  },
  {
   "cell_type": "code",
   "execution_count": 12,
   "metadata": {
    "collapsed": false
   },
   "outputs": [],
   "source": [
    "# Finally, parse the page into BeautifulSoup format so you can use BeautifulSoup to work on it.\n",
    "# Parse the html using beautiful soup and store in variable `soup`\n",
    "soup = BeautifulSoup(page, \"html.parser\")"
   ]
  },
  {
   "cell_type": "code",
   "execution_count": 14,
   "metadata": {
    "collapsed": false
   },
   "outputs": [],
   "source": [
    "# Now we have a variable, soup, containing the HTML of the page. \n",
    "# Here’s where we can start coding the part that extracts the data.\n",
    "# BeautifulSoup can help us get into these layers and extract the content with find().\n",
    "#In this case, since the HTML class name is unique on this page, we can simply query <div class=\"name\">.\n",
    "# Take out the <div> of name and get its value\n",
    "name_box = soup.find(\"h1\", attrs={\"class\": \"name\"})"
   ]
  },
  {
   "cell_type": "code",
   "execution_count": 16,
   "metadata": {
    "collapsed": false
   },
   "outputs": [
    {
     "name": "stdout",
     "output_type": "stream",
     "text": [
      "S&P 500 Index\n"
     ]
    }
   ],
   "source": [
    "# After we have the tag, we can get the data by getting its text.\n",
    "name = name_box.text.strip() # strip() is used to remove starting and trailing\n",
    "print (name)"
   ]
  },
  {
   "cell_type": "code",
   "execution_count": 17,
   "metadata": {
    "collapsed": false
   },
   "outputs": [
    {
     "name": "stdout",
     "output_type": "stream",
     "text": [
      "2,695.14\n"
     ]
    }
   ],
   "source": [
    "# Similarly, we can get the price too.\n",
    "# get the index price\n",
    "price_box = soup.find(\"div\", attrs={\"class\":\"price\"})\n",
    "price = price_box.text\n",
    "print (price)"
   ]
  },
  {
   "cell_type": "markdown",
   "metadata": {},
   "source": [
    "EXPORT TO EXCEL CSV\n",
    "WITH THE DATA IN HAND, IT IS TIME TO SAVE IT.\n",
    "FIRST, IMPORT THE PYTHON CSV MODULE AND DATETIME MODULE TO GET RECORD DATE."
   ]
  },
  {
   "cell_type": "code",
   "execution_count": 18,
   "metadata": {
    "collapsed": true
   },
   "outputs": [],
   "source": [
    "import csv\n",
    "from datetime import datetime"
   ]
  },
  {
   "cell_type": "code",
   "execution_count": 19,
   "metadata": {
    "collapsed": true
   },
   "outputs": [],
   "source": [
    "# Open a csv file with append, so old data will not be erased\n",
    "with open(\"stock.csv\", \"a\") as csv_file:\n",
    " writer = csv.writer(csv_file)\n",
    " writer.writerow([name, price, datetime.now()])"
   ]
  }
 ],
 "metadata": {
  "kernelspec": {
   "display_name": "Python 3",
   "language": "python",
   "name": "python3"
  },
  "language_info": {
   "codemirror_mode": {
    "name": "ipython",
    "version": 3
   },
   "file_extension": ".py",
   "mimetype": "text/x-python",
   "name": "python",
   "nbconvert_exporter": "python",
   "pygments_lexer": "ipython3",
   "version": "3.6.0"
  }
 },
 "nbformat": 4,
 "nbformat_minor": 2
}
